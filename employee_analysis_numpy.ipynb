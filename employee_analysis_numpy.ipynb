{
  "nbformat": 4,
  "nbformat_minor": 0,
  "metadata": {
    "colab": {
      "provenance": []
    },
    "kernelspec": {
      "name": "python3",
      "display_name": "Python 3"
    },
    "language_info": {
      "name": "python"
    }
  },
  "cells": [
    {
      "cell_type": "code",
      "execution_count": 165,
      "metadata": {
        "id": "oqxG5Gtf4w9A"
      },
      "outputs": [],
      "source": [
        "import numpy as np\n",
        "#importing numpy and using it as np"
      ]
    },
    {
      "cell_type": "markdown",
      "source": [
        "# **Step 1️⃣ Create Dataset (40 employees)**"
      ],
      "metadata": {
        "id": "BQY1FN6TDJMs"
      }
    },
    {
      "cell_type": "code",
      "source": [
        "#creating a sample data\n",
        "# Columns = [ID, Age, Salary (₹), Performance Score (0–10)]\n",
        "# Rows = individual employee data\n",
        "data = np.array([\n",
        "    [1, 22, 35000, 7],\n",
        "    [2, 25, 42000, 8],\n",
        "    [3, 28, 50000, 6],\n",
        "    [4, 35, 60000, 9],\n",
        "    [5, 40, 75000, 7],\n",
        "    [6, 30, 45000, 5],\n",
        "    [7, 26, 52000, 8],\n",
        "    [8, 29, 58000, 6],\n",
        "    [9, 32, 49000, 9],\n",
        "    [10, 45, 80000, 8],\n",
        "    [11, 36, 72000, 7],\n",
        "    [12, 27, 48000, 6],\n",
        "    [13, 34, 65000, 9],\n",
        "    [14, 31, 47000, 5],\n",
        "    [15, 39, 69000, 7],\n",
        "    [16, 42, 85000, 8],\n",
        "    [17, 33, 56000, 6],\n",
        "    [18, 29, 53000, 7],\n",
        "    [19, 38, 77000, 9],\n",
        "    [20, 41, 90000, 10],\n",
        "    # Adding more employees with missing/erroneous values\n",
        "    [21, 27, np.nan, 8],       # Missing salary\n",
        "    [22, 30, 61000, np.nan],   # Missing score\n",
        "    [23, 44, 0, 9],            # Salary wrongly entered as 0\n",
        "    [24, 50, 120000, 11],      # Score > 10 (error)\n",
        "    [25, 23, 40000, 6],\n",
        "    [26, 26, 51000, 8],\n",
        "    [27, 29, np.inf, 7],       # Salary recorded as infinity\n",
        "    [28, 37, 70000, 6],\n",
        "    [29, 35, -np.inf, 9],      #Salary recorded as negetive infinite\n",
        "    [30, 31, 48000, 5],\n",
        "    [31, 40, 75000, 8],\n",
        "    [32, 39, 71000, 7],\n",
        "    [33, 28, 55000, 6],\n",
        "    [34, 32, 49000, 7],\n",
        "    [35, 34, 62000, 8],\n",
        "    [36, 43, 81000, 9],\n",
        "    [37, 41, 88000, 8],\n",
        "    [38, 46, 95000, 10],\n",
        "    [39, 48, np.nan, 9],       # Missing salary again\n",
        "    [40, 29, 53000, 6]\n",
        "])\n",
        "\n",
        "np.set_printoptions(suppress=True, precision=2)  # suppress scientific notation, 2 decimal places\n",
        "\n",
        "# Now print your data\n",
        "print(data)"
      ],
      "metadata": {
        "colab": {
          "base_uri": "https://localhost:8080/"
        },
        "id": "6YYkJTHv4-WQ",
        "outputId": "d904bdda-8b6e-4153-fd88-bfb821bb77f6"
      },
      "execution_count": 177,
      "outputs": [
        {
          "output_type": "stream",
          "name": "stdout",
          "text": [
            "[[     1.     22.  35000.      7.]\n",
            " [     2.     25.  42000.      8.]\n",
            " [     3.     28.  50000.      6.]\n",
            " [     4.     35.  60000.      9.]\n",
            " [     5.     40.  75000.      7.]\n",
            " [     6.     30.  45000.      5.]\n",
            " [     7.     26.  52000.      8.]\n",
            " [     8.     29.  58000.      6.]\n",
            " [     9.     32.  49000.      9.]\n",
            " [    10.     45.  80000.      8.]\n",
            " [    11.     36.  72000.      7.]\n",
            " [    12.     27.  48000.      6.]\n",
            " [    13.     34.  65000.      9.]\n",
            " [    14.     31.  47000.      5.]\n",
            " [    15.     39.  69000.      7.]\n",
            " [    16.     42.  85000.      8.]\n",
            " [    17.     33.  56000.      6.]\n",
            " [    18.     29.  53000.      7.]\n",
            " [    19.     38.  77000.      9.]\n",
            " [    20.     41.  90000.     10.]\n",
            " [    21.     27.     nan      8.]\n",
            " [    22.     30.  61000.     nan]\n",
            " [    23.     44.      0.      9.]\n",
            " [    24.     50. 120000.     11.]\n",
            " [    25.     23.  40000.      6.]\n",
            " [    26.     26.  51000.      8.]\n",
            " [    27.     29.     inf      7.]\n",
            " [    28.     37.  70000.      6.]\n",
            " [    29.     35.    -inf      9.]\n",
            " [    30.     31.  48000.      5.]\n",
            " [    31.     40.  75000.      8.]\n",
            " [    32.     39.  71000.      7.]\n",
            " [    33.     28.  55000.      6.]\n",
            " [    34.     32.  49000.      7.]\n",
            " [    35.     34.  62000.      8.]\n",
            " [    36.     43.  81000.      9.]\n",
            " [    37.     41.  88000.      8.]\n",
            " [    38.     46.  95000.     10.]\n",
            " [    39.     48.     nan      9.]\n",
            " [    40.     29.  53000.      6.]]\n"
          ]
        }
      ]
    },
    {
      "cell_type": "markdown",
      "source": [
        "# **Step 2️⃣ Handle Errors & Missing Data**"
      ],
      "metadata": {
        "id": "UsoaPtTHDXgV"
      }
    },
    {
      "cell_type": "code",
      "source": [
        "#creating the vews\n",
        "salarys = data[:,2]\n",
        "scores = data[:,3]\n",
        "print(salarys)\n",
        "print(scores)"
      ],
      "metadata": {
        "colab": {
          "base_uri": "https://localhost:8080/"
        },
        "id": "2RQnBuhN5GX9",
        "outputId": "9a7a351d-f30b-44bf-9838-999fe3f28435"
      },
      "execution_count": 178,
      "outputs": [
        {
          "output_type": "stream",
          "name": "stdout",
          "text": [
            "[ 35000.  42000.  50000.  60000.  75000.  45000.  52000.  58000.  49000.\n",
            "  80000.  72000.  48000.  65000.  47000.  69000.  85000.  56000.  53000.\n",
            "  77000.  90000.     nan  61000.      0. 120000.  40000.  51000.     inf\n",
            "  70000.    -inf  48000.  75000.  71000.  55000.  49000.  62000.  81000.\n",
            "  88000.  95000.     nan  53000.]\n",
            "[ 7.  8.  6.  9.  7.  5.  8.  6.  9.  8.  7.  6.  9.  5.  7.  8.  6.  7.\n",
            "  9. 10.  8. nan  9. 11.  6.  8.  7.  6.  9.  5.  8.  7.  6.  7.  8.  9.\n",
            "  8. 10.  9.  6.]\n"
          ]
        }
      ]
    },
    {
      "cell_type": "code",
      "source": [
        "#lets replace inf/-inf with possible max and min salary\n",
        "print(f\"Before Replacing the inf/-inf values from salaryes to max and min {salarys}\")\n",
        "print()\n",
        "finite = salarys[np.isfinite(salarys)]\n",
        "max_valid_salary = np.max(finite)\n",
        "min_valid_salary = np.min(finite)\n",
        "salarys[np.isposinf(salarys)] = max_valid_salary\n",
        "salarys[np.isneginf(salarys)] = min_valid_salary\n",
        "print(f\"max valid salary: {max_valid_salary}\")\n",
        "print(f\"min valid salary: {min_valid_salary}\")\n",
        "print()\n",
        "print(f\"After Replacing the inf/-inf values from salaryes to max and min {salarys}\")\n"
      ],
      "metadata": {
        "colab": {
          "base_uri": "https://localhost:8080/"
        },
        "id": "f0odCfBn9jDJ",
        "outputId": "d314c72a-c8c4-4756-c192-369485bac18b"
      },
      "execution_count": 179,
      "outputs": [
        {
          "output_type": "stream",
          "name": "stdout",
          "text": [
            "Before Replacing the inf/-inf values from salaryes to max and min [ 35000.  42000.  50000.  60000.  75000.  45000.  52000.  58000.  49000.\n",
            "  80000.  72000.  48000.  65000.  47000.  69000.  85000.  56000.  53000.\n",
            "  77000.  90000.     nan  61000.      0. 120000.  40000.  51000.     inf\n",
            "  70000.    -inf  48000.  75000.  71000.  55000.  49000.  62000.  81000.\n",
            "  88000.  95000.     nan  53000.]\n",
            "\n",
            "max valid salary: 120000.0\n",
            "min valid salary: 0.0\n",
            "\n",
            "After Replacing the inf/-inf values from salaryes to max and min [ 35000.  42000.  50000.  60000.  75000.  45000.  52000.  58000.  49000.\n",
            "  80000.  72000.  48000.  65000.  47000.  69000.  85000.  56000.  53000.\n",
            "  77000.  90000.     nan  61000.      0. 120000.  40000.  51000. 120000.\n",
            "  70000.      0.  48000.  75000.  71000.  55000.  49000.  62000.  81000.\n",
            "  88000.  95000.     nan  53000.]\n"
          ]
        }
      ]
    },
    {
      "cell_type": "code",
      "source": [
        "#lets replace Nan and 0's with mean.\n",
        "print(f\"Before Replacing the Nan values from salaryes to mean {salarys}\")\n",
        "print()\n",
        "temp_salaries = salarys.copy()\n",
        "temp_salaries[temp_salaries == 0] = np.nan\n",
        "salary_mean = np.nanmean(temp_salaries)\n",
        "\n",
        "print(f\"salarys mean: {salary_mean}\")\n",
        "salary_mean = np.round(salary_mean,2)\n",
        "print(f\"salarys mean after rounding: {salary_mean}\")\n",
        "salarys[np.isnan(salarys)] = salary_mean\n",
        "salarys[salarys == 0] = salary_mean\n",
        "print()\n",
        "print(f\"After Replacing the Nan values from salaryes to mean {salarys}\")\n",
        "\n",
        "#Updating it in original data\n",
        "data[:,2] = salarys"
      ],
      "metadata": {
        "colab": {
          "base_uri": "https://localhost:8080/"
        },
        "id": "8u3lDdZ-77v_",
        "outputId": "7b20c387-0a92-4ba8-fc26-40c5f07df7ad"
      },
      "execution_count": 180,
      "outputs": [
        {
          "output_type": "stream",
          "name": "stdout",
          "text": [
            "Before Replacing the Nan values from salaryes to mean [ 35000.  42000.  50000.  60000.  75000.  45000.  52000.  58000.  49000.\n",
            "  80000.  72000.  48000.  65000.  47000.  69000.  85000.  56000.  53000.\n",
            "  77000.  90000.     nan  61000.      0. 120000.  40000.  51000. 120000.\n",
            "  70000.      0.  48000.  75000.  71000.  55000.  49000.  62000.  81000.\n",
            "  88000.  95000.     nan  53000.]\n",
            "\n",
            "salarys mean: 65194.444444444445\n",
            "salarys mean after rounding: 65194.44\n",
            "\n",
            "After Replacing the Nan values from salaryes to mean [ 35000.    42000.    50000.    60000.    75000.    45000.    52000.\n",
            "  58000.    49000.    80000.    72000.    48000.    65000.    47000.\n",
            "  69000.    85000.    56000.    53000.    77000.    90000.    65194.44\n",
            "  61000.    65194.44 120000.    40000.    51000.   120000.    70000.\n",
            "  65194.44  48000.    75000.    71000.    55000.    49000.    62000.\n",
            "  81000.    88000.    95000.    65194.44  53000.  ]\n"
          ]
        }
      ]
    },
    {
      "cell_type": "code",
      "source": [
        "#Fix scores > 10 → clip to 10\n",
        "print(f\"scores before clip: {scores}\")\n",
        "scores = np.clip(scores, 0, 10)\n",
        "print()\n",
        "print(f\"scores after clip: {scores}\")\n"
      ],
      "metadata": {
        "colab": {
          "base_uri": "https://localhost:8080/"
        },
        "id": "DFOqi1if6COb",
        "outputId": "2026a1ce-f58c-4da9-ad03-053c3c124d9e"
      },
      "execution_count": 181,
      "outputs": [
        {
          "output_type": "stream",
          "name": "stdout",
          "text": [
            "scores before clip: [ 7.  8.  6.  9.  7.  5.  8.  6.  9.  8.  7.  6.  9.  5.  7.  8.  6.  7.\n",
            "  9. 10.  8. nan  9. 11.  6.  8.  7.  6.  9.  5.  8.  7.  6.  7.  8.  9.\n",
            "  8. 10.  9.  6.]\n",
            "\n",
            "scores after clip: [ 7.  8.  6.  9.  7.  5.  8.  6.  9.  8.  7.  6.  9.  5.  7.  8.  6.  7.\n",
            "  9. 10.  8. nan  9. 10.  6.  8.  7.  6.  9.  5.  8.  7.  6.  7.  8.  9.\n",
            "  8. 10.  9.  6.]\n"
          ]
        }
      ]
    },
    {
      "cell_type": "code",
      "source": [
        "#Fix Nan score by rounding the mean\n",
        "print(f\"scores before rounding: {scores}\")\n",
        "mean_score = np.nanmean(scores)\n",
        "print(f\"mean score: {mean_score}\")\n",
        "scores[np.isnan(scores)] = np.round(mean_score)\n",
        "print(f\"scores after rounding the mean: {scores}\")\n",
        "#Updating in orginal data\n",
        "data[:,3] = scores"
      ],
      "metadata": {
        "colab": {
          "base_uri": "https://localhost:8080/"
        },
        "id": "0vXLUX7IA2pX",
        "outputId": "a71847f6-d69c-474d-8845-ece85e1c39f7"
      },
      "execution_count": 182,
      "outputs": [
        {
          "output_type": "stream",
          "name": "stdout",
          "text": [
            "scores before rounding: [ 7.  8.  6.  9.  7.  5.  8.  6.  9.  8.  7.  6.  9.  5.  7.  8.  6.  7.\n",
            "  9. 10.  8. nan  9. 10.  6.  8.  7.  6.  9.  5.  8.  7.  6.  7.  8.  9.\n",
            "  8. 10.  9.  6.]\n",
            "mean score: 7.512820512820513\n",
            "scores after rounding the mean: [ 7.  8.  6.  9.  7.  5.  8.  6.  9.  8.  7.  6.  9.  5.  7.  8.  6.  7.\n",
            "  9. 10.  8.  8.  9. 10.  6.  8.  7.  6.  9.  5.  8.  7.  6.  7.  8.  9.\n",
            "  8. 10.  9.  6.]\n"
          ]
        }
      ]
    },
    {
      "cell_type": "code",
      "source": [
        "#checking the new clean data\n",
        "print(data)"
      ],
      "metadata": {
        "colab": {
          "base_uri": "https://localhost:8080/"
        },
        "id": "ILjoBCbkQXqo",
        "outputId": "6cfefa23-0efd-4e98-e4ff-816ee0213cb0"
      },
      "execution_count": 183,
      "outputs": [
        {
          "output_type": "stream",
          "name": "stdout",
          "text": [
            "[[     1.       22.    35000.        7.  ]\n",
            " [     2.       25.    42000.        8.  ]\n",
            " [     3.       28.    50000.        6.  ]\n",
            " [     4.       35.    60000.        9.  ]\n",
            " [     5.       40.    75000.        7.  ]\n",
            " [     6.       30.    45000.        5.  ]\n",
            " [     7.       26.    52000.        8.  ]\n",
            " [     8.       29.    58000.        6.  ]\n",
            " [     9.       32.    49000.        9.  ]\n",
            " [    10.       45.    80000.        8.  ]\n",
            " [    11.       36.    72000.        7.  ]\n",
            " [    12.       27.    48000.        6.  ]\n",
            " [    13.       34.    65000.        9.  ]\n",
            " [    14.       31.    47000.        5.  ]\n",
            " [    15.       39.    69000.        7.  ]\n",
            " [    16.       42.    85000.        8.  ]\n",
            " [    17.       33.    56000.        6.  ]\n",
            " [    18.       29.    53000.        7.  ]\n",
            " [    19.       38.    77000.        9.  ]\n",
            " [    20.       41.    90000.       10.  ]\n",
            " [    21.       27.    65194.44      8.  ]\n",
            " [    22.       30.    61000.        8.  ]\n",
            " [    23.       44.    65194.44      9.  ]\n",
            " [    24.       50.   120000.       10.  ]\n",
            " [    25.       23.    40000.        6.  ]\n",
            " [    26.       26.    51000.        8.  ]\n",
            " [    27.       29.   120000.        7.  ]\n",
            " [    28.       37.    70000.        6.  ]\n",
            " [    29.       35.    65194.44      9.  ]\n",
            " [    30.       31.    48000.        5.  ]\n",
            " [    31.       40.    75000.        8.  ]\n",
            " [    32.       39.    71000.        7.  ]\n",
            " [    33.       28.    55000.        6.  ]\n",
            " [    34.       32.    49000.        7.  ]\n",
            " [    35.       34.    62000.        8.  ]\n",
            " [    36.       43.    81000.        9.  ]\n",
            " [    37.       41.    88000.        8.  ]\n",
            " [    38.       46.    95000.       10.  ]\n",
            " [    39.       48.    65194.44      9.  ]\n",
            " [    40.       29.    53000.        6.  ]]\n"
          ]
        }
      ]
    },
    {
      "cell_type": "markdown",
      "source": [
        "# **Step 3️⃣ Analysis After Cleaning**"
      ],
      "metadata": {
        "id": "yyHbgUyJGRwZ"
      }
    },
    {
      "cell_type": "markdown",
      "source": [
        "\n",
        "**1.   Shows how performance changes with salary**\n",
        "\n",
        "\n",
        "\n",
        "\n",
        "* Performance tends to increase with salary, but some low-salary employees still perform well.\n",
        "\n",
        "* This analysis can help identify underpaid high performers or assess salary vs performance trends  \n",
        "\n",
        "\n",
        "\n",
        "\n",
        "\n"
      ],
      "metadata": {
        "id": "hS48XWQeIk0a"
      }
    },
    {
      "cell_type": "code",
      "source": [
        "#Average Performance by Salary Bracket\n",
        "\n",
        "low = salarys < 50000;\n",
        "mid = (salarys >= 50000) & (salarys <= 75000);\n",
        "high = salarys > 75000;\n",
        "\n",
        "print(\"Avg Performance Low Salary:\", np.round(np.mean(scores[low]),2))\n",
        "print(\"Avg Performance Mid Salary:\", np.round(np.mean(scores[mid]),2))\n",
        "print(\"Avg Performance High Salary:\",np.round(np.mean(scores[high]),2))\n"
      ],
      "metadata": {
        "colab": {
          "base_uri": "https://localhost:8080/"
        },
        "id": "LrVkRD2DFvQt",
        "outputId": "e74e817d-96b1-42ce-ad43-a8b59818ccef"
      },
      "execution_count": 184,
      "outputs": [
        {
          "output_type": "stream",
          "name": "stdout",
          "text": [
            "Avg Performance Low Salary: 6.44\n",
            "Avg Performance Mid Salary: 7.45\n",
            "Avg Performance High Salary: 8.78\n"
          ]
        }
      ]
    },
    {
      "cell_type": "markdown",
      "source": [
        "\n",
        "\n",
        "\n",
        " **2.   Top 5 Employees by Weighted Score**\n",
        "\n",
        " * The idea is to rank employees not just by salary or performance individually, but by a combination of both. This simulates a real-world scenario where companies may value both how much someone earns (experience/seniority) and how well they perform.\n",
        "\n",
        "\n",
        "\n",
        "*   Weighted ranking helps highlight overall top talent, considering both compensation and performance.\n",
        "\n",
        "\n",
        "\n"
      ],
      "metadata": {
        "id": "GqL08QeSKOYQ"
      }
    },
    {
      "cell_type": "code",
      "source": [
        "#1)Normalize Salary and Score:\n",
        "#To combine them fairly, we scale both between 0 and 1:\n",
        "\n",
        "salary_norm = (salarys - np.min(salarys)) / (np.max(salarys) - np.min(salarys))\n",
        "score_norm = scores / 10\n",
        "\n",
        "#2)Combine with Weights:\n",
        "#Give importance to salary vs performance.\n",
        "\n",
        "#Example: 60% weight for salary, 40% weight for performance:\n",
        "\n",
        "combined = 0.6*salary_norm + 0.4*score_norm\n",
        "\n",
        "\n",
        "#3)Use np.argsort to rank all employees by this combined metric:\n",
        "\n",
        "ranked_employees = np.argsort(combined)\n",
        "\n",
        "top5 = data[ranked_employees[-5:]]\n",
        "print(top5)\n",
        "\n"
      ],
      "metadata": {
        "colab": {
          "base_uri": "https://localhost:8080/"
        },
        "id": "VotBsDzSHIEN",
        "outputId": "68d49c90-39c9-442c-8237-828ba52d0432"
      },
      "execution_count": 185,
      "outputs": [
        {
          "output_type": "stream",
          "name": "stdout",
          "text": [
            "[[    37.     41.  88000.      8.]\n",
            " [    20.     41.  90000.     10.]\n",
            " [    38.     46.  95000.     10.]\n",
            " [    27.     29. 120000.      7.]\n",
            " [    24.     50. 120000.     10.]]\n"
          ]
        }
      ]
    },
    {
      "cell_type": "markdown",
      "source": [
        "\n",
        "\n",
        "**3.   Average Age by Salary Bracket**\n",
        "\n",
        "\n",
        "*   Insight: See if older employees are in higher salary brackets.\n",
        "\n",
        "\n"
      ],
      "metadata": {
        "id": "BIri5OJlX3mU"
      }
    },
    {
      "cell_type": "code",
      "source": [
        "# Define salary brackets\n",
        "brackets = [0, 50000, 70000, 90000, 120000]\n",
        "labels = [\"0-50k\", \"50k-70k\", \"70k-90k\", \"90k-120k\"]\n",
        "\n",
        "for i in range(len(brackets)-1):\n",
        "    #mask for each bracket\n",
        "    mask = (data[:,2] >= brackets[i]) & (data[:,2] < brackets[i+1])\n",
        "    #mean  of age in each mask\n",
        "    avg_age = np.mean(data[mask][:,1])\n",
        "    print(f\"Average age for salary {labels[i]}: {avg_age:.2f}\")\n"
      ],
      "metadata": {
        "colab": {
          "base_uri": "https://localhost:8080/"
        },
        "id": "CrN30vHmN6Pk",
        "outputId": "95f94e98-02e1-4d7f-fe5f-1fa8791535a8"
      },
      "execution_count": 186,
      "outputs": [
        {
          "output_type": "stream",
          "name": "stdout",
          "text": [
            "Average age for salary 0-50k: 28.11\n",
            "Average age for salary 50k-70k: 32.59\n",
            "Average age for salary 70k-90k: 40.10\n",
            "Average age for salary 90k-120k: 43.50\n"
          ]
        }
      ]
    },
    {
      "cell_type": "markdown",
      "source": [
        "\n",
        "\n",
        " **4. High Performers in Low Salary**\n",
        "\n",
        "\n",
        "*   Insight: Find employees who perform well but are underpaid.\n",
        "\n",
        "\n",
        "\n"
      ],
      "metadata": {
        "id": "Rp4mJfeKYsie"
      }
    },
    {
      "cell_type": "code",
      "source": [
        "#setting the range for low salary and high performance\n",
        "high_performance = 8\n",
        "low_salary = 60000\n",
        "#creating the mask where a employee salary is < 60000 and has a perforamnce score >= 8\n",
        "mask = (data[:,3] >= high_performance) & (data[:,2] < low_salary)\n",
        "print(f\"this empolyees deserves better: {data[mask]}\")"
      ],
      "metadata": {
        "colab": {
          "base_uri": "https://localhost:8080/"
        },
        "id": "rZNfdPFAYdX9",
        "outputId": "0307bd6a-4921-4fc1-9e0d-c9fbbf147fca"
      },
      "execution_count": 187,
      "outputs": [
        {
          "output_type": "stream",
          "name": "stdout",
          "text": [
            "this empolyees deserves better: [[    2.    25. 42000.     8.]\n",
            " [    7.    26. 52000.     8.]\n",
            " [    9.    32. 49000.     9.]\n",
            " [   26.    26. 51000.     8.]]\n"
          ]
        }
      ]
    },
    {
      "cell_type": "markdown",
      "source": [
        "\n",
        "\n",
        "**5.   Salary vs Performance Correlation**\n",
        "\n",
        "\n",
        "*  Insight: See if higher salaries actually correspond to better performance.\n",
        "\n",
        "\n"
      ],
      "metadata": {
        "id": "th4HnKljaqgy"
      }
    },
    {
      "cell_type": "code",
      "source": [
        "#setting up the views\n",
        "salary = data[:,2]\n",
        "performance = data[:,3]\n",
        "#finding the Correlation coeffecient range btw(0,1)\n",
        "Correlation = np.corrcoef(salary,performance)[0,1]\n",
        "print(f\"Correlation: {Correlation}\")"
      ],
      "metadata": {
        "colab": {
          "base_uri": "https://localhost:8080/"
        },
        "id": "H1nKee-6Zfmf",
        "outputId": "2aaa4fcc-51ba-4ea5-ab3b-c3a61754a355"
      },
      "execution_count": 188,
      "outputs": [
        {
          "output_type": "stream",
          "name": "stdout",
          "text": [
            "Correlation: 0.519757774672183\n"
          ]
        }
      ]
    },
    {
      "cell_type": "code",
      "source": [],
      "metadata": {
        "id": "DkDu1d3xbIp-"
      },
      "execution_count": 188,
      "outputs": []
    }
  ]
}